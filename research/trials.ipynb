{
 "cells": [
  {
   "cell_type": "code",
   "execution_count": 37,
   "metadata": {},
   "outputs": [],
   "source": [
    "#Scrape "
   ]
  },
  {
   "cell_type": "code",
   "execution_count": 38,
   "metadata": {},
   "outputs": [],
   "source": [
    "import pandas as pd \n",
    "from selenium import webdriver\n",
    "from bs4 import BeautifulSoup"
   ]
  },
  {
   "cell_type": "code",
   "execution_count": 39,
   "metadata": {},
   "outputs": [],
   "source": [
    "driver = webdriver.Chrome()"
   ]
  },
  {
   "cell_type": "code",
   "execution_count": 40,
   "metadata": {},
   "outputs": [],
   "source": [
    "driver.get('https://www.amazon.in/s?k=mobiles&crid=2944PM084A0K4&sprefix=mobiles%2Caps%2C271&ref=nb_sb_noss_1')"
   ]
  },
  {
   "cell_type": "code",
   "execution_count": 41,
   "metadata": {},
   "outputs": [],
   "source": [
    "html_data = BeautifulSoup(driver.page_source, 'html.parser')"
   ]
  },
  {
   "cell_type": "code",
   "execution_count": 42,
   "metadata": {},
   "outputs": [],
   "source": [
    "No_of_pages = int(html_data.find('span',{'class':'s-pagination-item s-pagination-disabled'}).text)"
   ]
  },
  {
   "cell_type": "code",
   "execution_count": 43,
   "metadata": {},
   "outputs": [
    {
     "data": {
      "text/plain": [
       "20"
      ]
     },
     "execution_count": 43,
     "metadata": {},
     "output_type": "execute_result"
    }
   ],
   "source": [
    "No_of_pages"
   ]
  },
  {
   "cell_type": "code",
   "execution_count": 44,
   "metadata": {},
   "outputs": [],
   "source": [
    "products = html_data.find_all('div',{'data-component-type':'s-search-result'})"
   ]
  },
  {
   "cell_type": "code",
   "execution_count": 45,
   "metadata": {},
   "outputs": [],
   "source": [
    "import time"
   ]
  },
  {
   "cell_type": "code",
   "execution_count": 46,
   "metadata": {},
   "outputs": [],
   "source": [
    "from tqdm import tqdm"
   ]
  },
  {
   "cell_type": "code",
   "execution_count": 47,
   "metadata": {},
   "outputs": [
    {
     "name": "stderr",
     "output_type": "stream",
     "text": [
      "100%|██████████| 20/20 [01:41<00:00,  5.05s/it]\n"
     ]
    }
   ],
   "source": [
    "titles = []\n",
    "images = []\n",
    "ratings = []\n",
    "prices = []\n",
    "\n",
    "for i in tqdm(range(No_of_pages)):\n",
    "    url = 'https://www.amazon.in/s?k=mobiles&crid=2944PM084A0K4&sprefix=mobiles%2Caps%2C271&ref=nb_sb_noss_1&page=' + str(i + 1)\n",
    "    driver.get(url)\n",
    "    time.sleep(2)\n",
    "    html_data = BeautifulSoup(driver.page_source, 'html.parser')\n",
    "    products = html_data.find_all('div', {'data-component-type': 's-search-result'})\n",
    "    \n",
    "    for product in products:\n",
    "        title = product.find('span', {'class': 'a-size-medium a-color-base a-text-normal'}).text\n",
    "        titles.append(title)\n",
    "        \n",
    "        img = product.find('img')['src']\n",
    "        images.append(img)\n",
    "        \n",
    "        rating = product.find('span', {'class': 'a-icon-alt'})\n",
    "        if rating is None:\n",
    "            rating = 'No Rating'\n",
    "        else:\n",
    "            rating = rating.text\n",
    "        ratings.append(rating)\n",
    "        \n",
    "        price = product.find('span', {'class': 'a-price-whole'})\n",
    "        if price is None:\n",
    "            price = 'No Price'\n",
    "        else:\n",
    "            price = '₹' + price.text\n",
    "        prices.append(price)\n"
   ]
  },
  {
   "cell_type": "code",
   "execution_count": 48,
   "metadata": {},
   "outputs": [],
   "source": [
    "data = pd.DataFrame({'titles':titles, 'images':images,'ratings':ratings, 'prices':prices})"
   ]
  },
  {
   "cell_type": "code",
   "execution_count": 49,
   "metadata": {},
   "outputs": [
    {
     "data": {
      "text/html": [
       "<div>\n",
       "<style scoped>\n",
       "    .dataframe tbody tr th:only-of-type {\n",
       "        vertical-align: middle;\n",
       "    }\n",
       "\n",
       "    .dataframe tbody tr th {\n",
       "        vertical-align: top;\n",
       "    }\n",
       "\n",
       "    .dataframe thead th {\n",
       "        text-align: right;\n",
       "    }\n",
       "</style>\n",
       "<table border=\"1\" class=\"dataframe\">\n",
       "  <thead>\n",
       "    <tr style=\"text-align: right;\">\n",
       "      <th></th>\n",
       "      <th>titles</th>\n",
       "      <th>images</th>\n",
       "      <th>ratings</th>\n",
       "      <th>prices</th>\n",
       "    </tr>\n",
       "  </thead>\n",
       "  <tbody>\n",
       "    <tr>\n",
       "      <th>0</th>\n",
       "      <td>OPPO F27 5G (Emerald Green, 8GB RAM, 128GB Sto...</td>\n",
       "      <td>https://m.media-amazon.com/images/I/81CFCXH1tV...</td>\n",
       "      <td>5.0 out of 5 stars</td>\n",
       "      <td>₹22,999</td>\n",
       "    </tr>\n",
       "    <tr>\n",
       "      <th>1</th>\n",
       "      <td>Redmi 13 5g Black Diamond 6GB 128GB</td>\n",
       "      <td>https://m.media-amazon.com/images/I/81ndCd07Ru...</td>\n",
       "      <td>3.8 out of 5 stars</td>\n",
       "      <td>₹13,998</td>\n",
       "    </tr>\n",
       "    <tr>\n",
       "      <th>2</th>\n",
       "      <td>Redmi 13C (Stardust Black, 4GB RAM, 128GB Stor...</td>\n",
       "      <td>https://m.media-amazon.com/images/I/71d1ytcCnt...</td>\n",
       "      <td>4.1 out of 5 stars</td>\n",
       "      <td>₹7,698</td>\n",
       "    </tr>\n",
       "    <tr>\n",
       "      <th>3</th>\n",
       "      <td>POCO C65 (Pastel Blue 4GB RAM 128GB Storage)</td>\n",
       "      <td>https://m.media-amazon.com/images/I/51Zjp5fq1E...</td>\n",
       "      <td>4.0 out of 5 stars</td>\n",
       "      <td>₹6,799</td>\n",
       "    </tr>\n",
       "    <tr>\n",
       "      <th>4</th>\n",
       "      <td>OnePlus Nord CE4 Lite 5G (Super Silver, 8GB RA...</td>\n",
       "      <td>https://m.media-amazon.com/images/I/61Io5-ojWU...</td>\n",
       "      <td>4.1 out of 5 stars</td>\n",
       "      <td>₹19,999</td>\n",
       "    </tr>\n",
       "    <tr>\n",
       "      <th>...</th>\n",
       "      <td>...</td>\n",
       "      <td>...</td>\n",
       "      <td>...</td>\n",
       "      <td>...</td>\n",
       "    </tr>\n",
       "    <tr>\n",
       "      <th>380</th>\n",
       "      <td>Redmi Note 13 Pro+ (Fusion Purple, 12GB RAM, 5...</td>\n",
       "      <td>https://m.media-amazon.com/images/I/819sWoSDFR...</td>\n",
       "      <td>3.8 out of 5 stars</td>\n",
       "      <td>₹33,499</td>\n",
       "    </tr>\n",
       "    <tr>\n",
       "      <th>381</th>\n",
       "      <td>itel Color Pro 5G | Color Changing Back | 6GB ...</td>\n",
       "      <td>https://m.media-amazon.com/images/I/71vTksQ2PV...</td>\n",
       "      <td>4.1 out of 5 stars</td>\n",
       "      <td>₹9,899</td>\n",
       "    </tr>\n",
       "    <tr>\n",
       "      <th>382</th>\n",
       "      <td>vivo Y28e 5G (Breeze Green, 4GB RAM, 128GB Sto...</td>\n",
       "      <td>https://m.media-amazon.com/images/I/71BNk+usE3...</td>\n",
       "      <td>3.6 out of 5 stars</td>\n",
       "      <td>₹11,999</td>\n",
       "    </tr>\n",
       "    <tr>\n",
       "      <th>383</th>\n",
       "      <td>iQOO Neo9 Pro 5G (Fiery Red, 8GB RAM, 256GB St...</td>\n",
       "      <td>https://m.media-amazon.com/images/I/718jcIFYaA...</td>\n",
       "      <td>4.4 out of 5 stars</td>\n",
       "      <td>₹36,998</td>\n",
       "    </tr>\n",
       "    <tr>\n",
       "      <th>384</th>\n",
       "      <td>OPPO A3X 5G (Starry Purple, 4GB RAM, 64GB Stor...</td>\n",
       "      <td>https://m.media-amazon.com/images/I/81Tx+kozw2...</td>\n",
       "      <td>3.1 out of 5 stars</td>\n",
       "      <td>₹12,499</td>\n",
       "    </tr>\n",
       "  </tbody>\n",
       "</table>\n",
       "<p>385 rows × 4 columns</p>\n",
       "</div>"
      ],
      "text/plain": [
       "                                                titles  \\\n",
       "0    OPPO F27 5G (Emerald Green, 8GB RAM, 128GB Sto...   \n",
       "1                  Redmi 13 5g Black Diamond 6GB 128GB   \n",
       "2    Redmi 13C (Stardust Black, 4GB RAM, 128GB Stor...   \n",
       "3         POCO C65 (Pastel Blue 4GB RAM 128GB Storage)   \n",
       "4    OnePlus Nord CE4 Lite 5G (Super Silver, 8GB RA...   \n",
       "..                                                 ...   \n",
       "380  Redmi Note 13 Pro+ (Fusion Purple, 12GB RAM, 5...   \n",
       "381  itel Color Pro 5G | Color Changing Back | 6GB ...   \n",
       "382  vivo Y28e 5G (Breeze Green, 4GB RAM, 128GB Sto...   \n",
       "383  iQOO Neo9 Pro 5G (Fiery Red, 8GB RAM, 256GB St...   \n",
       "384  OPPO A3X 5G (Starry Purple, 4GB RAM, 64GB Stor...   \n",
       "\n",
       "                                                images             ratings  \\\n",
       "0    https://m.media-amazon.com/images/I/81CFCXH1tV...  5.0 out of 5 stars   \n",
       "1    https://m.media-amazon.com/images/I/81ndCd07Ru...  3.8 out of 5 stars   \n",
       "2    https://m.media-amazon.com/images/I/71d1ytcCnt...  4.1 out of 5 stars   \n",
       "3    https://m.media-amazon.com/images/I/51Zjp5fq1E...  4.0 out of 5 stars   \n",
       "4    https://m.media-amazon.com/images/I/61Io5-ojWU...  4.1 out of 5 stars   \n",
       "..                                                 ...                 ...   \n",
       "380  https://m.media-amazon.com/images/I/819sWoSDFR...  3.8 out of 5 stars   \n",
       "381  https://m.media-amazon.com/images/I/71vTksQ2PV...  4.1 out of 5 stars   \n",
       "382  https://m.media-amazon.com/images/I/71BNk+usE3...  3.6 out of 5 stars   \n",
       "383  https://m.media-amazon.com/images/I/718jcIFYaA...  4.4 out of 5 stars   \n",
       "384  https://m.media-amazon.com/images/I/81Tx+kozw2...  3.1 out of 5 stars   \n",
       "\n",
       "      prices  \n",
       "0    ₹22,999  \n",
       "1    ₹13,998  \n",
       "2     ₹7,698  \n",
       "3     ₹6,799  \n",
       "4    ₹19,999  \n",
       "..       ...  \n",
       "380  ₹33,499  \n",
       "381   ₹9,899  \n",
       "382  ₹11,999  \n",
       "383  ₹36,998  \n",
       "384  ₹12,499  \n",
       "\n",
       "[385 rows x 4 columns]"
      ]
     },
     "execution_count": 49,
     "metadata": {},
     "output_type": "execute_result"
    }
   ],
   "source": [
    "data"
   ]
  },
  {
   "cell_type": "code",
   "execution_count": 50,
   "metadata": {},
   "outputs": [],
   "source": [
    "data.to_csv('../data/Mobile Products.csv')"
   ]
  },
  {
   "cell_type": "code",
   "execution_count": null,
   "metadata": {},
   "outputs": [],
   "source": []
  },
  {
   "cell_type": "code",
   "execution_count": 51,
   "metadata": {},
   "outputs": [],
   "source": [
    "#Scrape Reviews From Amazon"
   ]
  },
  {
   "cell_type": "code",
   "execution_count": null,
   "metadata": {},
   "outputs": [],
   "source": [
    "import pandas as pd \n",
    "from selenium import webdriver\n",
    "from bs4 import BeautifulSoup"
   ]
  },
  {
   "cell_type": "code",
   "execution_count": null,
   "metadata": {},
   "outputs": [],
   "source": [
    "driver = webdriver.Chrome()"
   ]
  },
  {
   "cell_type": "code",
   "execution_count": null,
   "metadata": {},
   "outputs": [],
   "source": [
    "driver.get('https://www.amazon.in/Apple-iPhone-15-128-GB/product-reviews/B0CHX1W1XY/ref=cm_cr_getr_d_paging_btm_next_10?ie=UTF8&reviewerType=all_reviews')"
   ]
  },
  {
   "cell_type": "code",
   "execution_count": null,
   "metadata": {},
   "outputs": [],
   "source": [
    "html_data = BeautifulSoup(driver.page_source, 'html.parser')"
   ]
  },
  {
   "cell_type": "code",
   "execution_count": null,
   "metadata": {},
   "outputs": [],
   "source": [
    "import time \n"
   ]
  },
  {
   "cell_type": "code",
   "execution_count": 57,
   "metadata": {},
   "outputs": [
    {
     "name": "stdout",
     "output_type": "stream",
     "text": [
      "https://www.amazon.in/Apple-iPhone-15-128-GB/product-reviews/B0CHX1W1XY/ref=cm_cr_arp_d_paging_btm_2?ie=UTF8&pageNumber=2&reviewerType=all_reviews\n",
      "https://www.amazon.in/Apple-iPhone-15-128-GB/product-reviews/B0CHX1W1XY/ref=cm_cr_arp_d_paging_btm_3?ie=UTF8&pageNumber=3&reviewerType=all_reviews\n",
      "https://www.amazon.in/Apple-iPhone-15-128-GB/product-reviews/B0CHX1W1XY/ref=cm_cr_arp_d_paging_btm_4?ie=UTF8&pageNumber=4&reviewerType=all_reviews\n",
      "https://www.amazon.in/Apple-iPhone-15-128-GB/product-reviews/B0CHX1W1XY/ref=cm_cr_arp_d_paging_btm_5?ie=UTF8&pageNumber=5&reviewerType=all_reviews\n",
      "https://www.amazon.in/Apple-iPhone-15-128-GB/product-reviews/B0CHX1W1XY/ref=cm_cr_arp_d_paging_btm_6?ie=UTF8&pageNumber=6&reviewerType=all_reviews\n",
      "https://www.amazon.in/Apple-iPhone-15-128-GB/product-reviews/B0CHX1W1XY/ref=cm_cr_arp_d_paging_btm_7?ie=UTF8&pageNumber=7&reviewerType=all_reviews\n",
      "https://www.amazon.in/Apple-iPhone-15-128-GB/product-reviews/B0CHX1W1XY/ref=cm_cr_arp_d_paging_btm_8?ie=UTF8&pageNumber=8&reviewerType=all_reviews\n",
      "https://www.amazon.in/Apple-iPhone-15-128-GB/product-reviews/B0CHX1W1XY/ref=cm_cr_arp_d_paging_btm_9?ie=UTF8&pageNumber=9&reviewerType=all_reviews\n",
      "https://www.amazon.in/Apple-iPhone-15-128-GB/product-reviews/B0CHX1W1XY/ref=cm_cr_arp_d_paging_btm_10?ie=UTF8&pageNumber=10&reviewerType=all_reviews\n"
     ]
    },
    {
     "ename": "TypeError",
     "evalue": "'NoneType' object is not subscriptable",
     "output_type": "error",
     "traceback": [
      "\u001b[1;31m---------------------------------------------------------------------------\u001b[0m",
      "\u001b[1;31mTypeError\u001b[0m                                 Traceback (most recent call last)",
      "Cell \u001b[1;32mIn[57], line 31\u001b[0m\n\u001b[0;32m     28\u001b[0m     url \u001b[38;5;241m=\u001b[39m \u001b[38;5;28;01mNone\u001b[39;00m\n\u001b[0;32m     30\u001b[0m \u001b[38;5;28;01melse\u001b[39;00m:\n\u001b[1;32m---> 31\u001b[0m     url \u001b[38;5;241m=\u001b[39m \u001b[38;5;124m'\u001b[39m\u001b[38;5;124mhttps://www.amazon.in\u001b[39m\u001b[38;5;124m'\u001b[39m \u001b[38;5;241m+\u001b[39m \u001b[43mhtml_data\u001b[49m\u001b[38;5;241;43m.\u001b[39;49m\u001b[43mfind\u001b[49m\u001b[43m(\u001b[49m\u001b[38;5;124;43m'\u001b[39;49m\u001b[38;5;124;43mli\u001b[39;49m\u001b[38;5;124;43m'\u001b[39;49m\u001b[43m,\u001b[49m\u001b[43m{\u001b[49m\u001b[38;5;124;43m'\u001b[39;49m\u001b[38;5;124;43mclass\u001b[39;49m\u001b[38;5;124;43m'\u001b[39;49m\u001b[43m:\u001b[49m\u001b[38;5;124;43m'\u001b[39;49m\u001b[38;5;124;43ma-last\u001b[39;49m\u001b[38;5;124;43m'\u001b[39;49m\u001b[43m}\u001b[49m\u001b[43m)\u001b[49m\u001b[38;5;241;43m.\u001b[39;49m\u001b[43ma\u001b[49m\u001b[43m[\u001b[49m\u001b[38;5;124;43m'\u001b[39;49m\u001b[38;5;124;43mhref\u001b[39;49m\u001b[38;5;124;43m'\u001b[39;49m\u001b[43m]\u001b[49m\n\u001b[0;32m     32\u001b[0m \u001b[38;5;28mprint\u001b[39m(url)\n",
      "\u001b[1;31mTypeError\u001b[0m: 'NoneType' object is not subscriptable"
     ]
    }
   ],
   "source": [
    "i = 0\n",
    "names = []\n",
    "ratings = []\n",
    "rating_dates = []\n",
    "titles = []\n",
    "reviews_text = []\n",
    "while url != None:\n",
    "    i = i + 1\n",
    "    url = 'https://www.amazon.in/Apple-iPhone-15-128-GB/product-reviews/B0CHX1W1XY/ref=cm_cr_arp_d_paging_btm_next_2?ie=UTF8&reviewerType=all_reviews&pageNumber='+str(i)\n",
    "    driver.get(url)\n",
    "    time.sleep(5)\n",
    "    html_data = BeautifulSoup(driver.page_source, 'html.parser')\n",
    "    reviews = html_data.find_all('div',{'data-hook':'review'})\n",
    "    for review in reviews:\n",
    "        name = review.find('span',{'class':'a-profile-name'}).text\n",
    "        names.append(name.strip())\n",
    "        rating = review.find('span',{'class':'a-icon-alt'}).text\n",
    "        ratings.append(rating)\n",
    "        rating_date = review.find('span',{'data-hook':'review-date'}).text\n",
    "        rating_dates.append(rating_date)\n",
    "        title = review.find('a',{'data-hook':'review-title'}).text\n",
    "        titles.append(title)\n",
    "        review_text = review.find('span',{'data-hook':'review-body'}).text\n",
    "        reviews_text.append(review_text)\n",
    "    url_check = html_data.find('li',{'class':'a-last'})\n",
    "    if url_check == None:\n",
    "       \n",
    "        url = None\n",
    "        \n",
    "    else:\n",
    "        url = 'https://www.amazon.in' + html_data.find('li',{'class':'a-last'}).a['href']\n",
    "    print(url)\n",
    "    "
   ]
  },
  {
   "cell_type": "code",
   "execution_count": 58,
   "metadata": {},
   "outputs": [],
   "source": [
    "data = pd.DataFrame({'profile_name':names,\n",
    "                    'rating':ratings,\n",
    "                     'rating_date':rating_dates,\n",
    "                     'title':titles,\n",
    "                     'review_text':reviews_text\n",
    "                     })"
   ]
  },
  {
   "cell_type": "code",
   "execution_count": 59,
   "metadata": {},
   "outputs": [
    {
     "data": {
      "text/plain": [
       "rating\n",
       "5.0 out of 5 stars    64\n",
       "4.0 out of 5 stars    31\n",
       "3.0 out of 5 stars     5\n",
       "Name: count, dtype: int64"
      ]
     },
     "execution_count": 59,
     "metadata": {},
     "output_type": "execute_result"
    }
   ],
   "source": [
    "data.rating.value_counts()"
   ]
  },
  {
   "cell_type": "code",
   "execution_count": 62,
   "metadata": {},
   "outputs": [],
   "source": [
    "data.to_csv('../data/Product_Reviews.csv')"
   ]
  },
  {
   "cell_type": "code",
   "execution_count": null,
   "metadata": {},
   "outputs": [],
   "source": []
  }
 ],
 "metadata": {
  "kernelspec": {
   "display_name": "Python 3",
   "language": "python",
   "name": "python3"
  },
  "language_info": {
   "codemirror_mode": {
    "name": "ipython",
    "version": 3
   },
   "file_extension": ".py",
   "mimetype": "text/x-python",
   "name": "python",
   "nbconvert_exporter": "python",
   "pygments_lexer": "ipython3",
   "version": "3.8.0"
  }
 },
 "nbformat": 4,
 "nbformat_minor": 2
}
