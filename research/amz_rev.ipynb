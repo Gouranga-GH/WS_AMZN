{
 "cells": [
  {
   "cell_type": "markdown",
   "metadata": {},
   "source": [
    "# Web Scraping Product Reviews\n",
    "This notebook scrapes reviews for a specified product from Amazon and stores the data in a CSV file."
   ]
  },
  {
   "cell_type": "code",
   "execution_count": 10,
   "metadata": {},
   "outputs": [],
   "source": [
    "import pandas as pd  # Import pandas for data manipulation and storage\n",
    "from selenium import webdriver  # Import WebDriver from selenium for web scraping\n",
    "from bs4 import BeautifulSoup  # Import BeautifulSoup for parsing HTML data"
   ]
  },
  {
   "cell_type": "code",
   "execution_count": 11,
   "metadata": {},
   "outputs": [],
   "source": [
    "# Initialize the Chrome WebDriver\n",
    "driver = webdriver.Chrome()\n",
    "\n",
    "# Open the Amazon product reviews page for the specified product\n",
    "driver.get(\"https://www.amazon.in/POCO-Snowstorm-White-RAM-Storage/product-reviews/B0CSSD9QJR/ref=cm_cr_dp_d_show_all_btm?ie=UTF8&reviewerType=all_reviews\")\n",
    "\n",
    "# Parse the HTML content using BeautifulSoup\n",
    "html_data = BeautifulSoup(driver.page_source, 'html.parser')\n",
    "\n",
    "import time  # Import time to introduce delays between requests"
   ]
  },
  {
   "cell_type": "code",
   "execution_count": 12,
   "metadata": {},
   "outputs": [],
   "source": [
    "# Initialize variables and lists to store data\n",
    "i = 0\n",
    "names = []\n",
    "ratings = []\n",
    "rating_dates = []\n",
    "titles = []\n",
    "reviews_text = []"
   ]
  },
  {
   "cell_type": "code",
   "execution_count": 13,
   "metadata": {},
   "outputs": [
    {
     "name": "stdout",
     "output_type": "stream",
     "text": [
      "https://www.amazon.in/POCO-Snowstorm-White-RAM-Storage/product-reviews/B0CSSD9QJR/ref=cm_cr_arp_d_paging_btm_2?ie=UTF8&pageNumber=2&reviewerType=all_reviews\n",
      "https://www.amazon.in/POCO-Snowstorm-White-RAM-Storage/product-reviews/B0CSSD9QJR/ref=cm_cr_arp_d_paging_btm_3?ie=UTF8&pageNumber=3&reviewerType=all_reviews\n",
      "https://www.amazon.in/POCO-Snowstorm-White-RAM-Storage/product-reviews/B0CSSD9QJR/ref=cm_cr_arp_d_paging_btm_4?ie=UTF8&pageNumber=4&reviewerType=all_reviews\n",
      "https://www.amazon.in/POCO-Snowstorm-White-RAM-Storage/product-reviews/B0CSSD9QJR/ref=cm_cr_arp_d_paging_btm_5?ie=UTF8&pageNumber=5&reviewerType=all_reviews\n",
      "https://www.amazon.in/POCO-Snowstorm-White-RAM-Storage/product-reviews/B0CSSD9QJR/ref=cm_cr_arp_d_paging_btm_6?ie=UTF8&pageNumber=6&reviewerType=all_reviews\n",
      "https://www.amazon.in/POCO-Snowstorm-White-RAM-Storage/product-reviews/B0CSSD9QJR/ref=cm_cr_arp_d_paging_btm_7?ie=UTF8&pageNumber=7&reviewerType=all_reviews\n",
      "https://www.amazon.in/POCO-Snowstorm-White-RAM-Storage/product-reviews/B0CSSD9QJR/ref=cm_cr_arp_d_paging_btm_8?ie=UTF8&pageNumber=8&reviewerType=all_reviews\n",
      "https://www.amazon.in/POCO-Snowstorm-White-RAM-Storage/product-reviews/B0CSSD9QJR/ref=cm_cr_arp_d_paging_btm_9?ie=UTF8&pageNumber=9&reviewerType=all_reviews\n",
      "https://www.amazon.in/POCO-Snowstorm-White-RAM-Storage/product-reviews/B0CSSD9QJR/ref=cm_cr_arp_d_paging_btm_10?ie=UTF8&pageNumber=10&reviewerType=all_reviews\n"
     ]
    },
    {
     "ename": "TypeError",
     "evalue": "'NoneType' object is not subscriptable",
     "output_type": "error",
     "traceback": [
      "\u001b[1;31m---------------------------------------------------------------------------\u001b[0m",
      "\u001b[1;31mTypeError\u001b[0m                                 Traceback (most recent call last)",
      "Cell \u001b[1;32mIn[13], line 50\u001b[0m\n\u001b[0;32m     47\u001b[0m     url \u001b[38;5;241m=\u001b[39m \u001b[38;5;28;01mNone\u001b[39;00m\n\u001b[0;32m     48\u001b[0m \u001b[38;5;28;01melse\u001b[39;00m:\n\u001b[0;32m     49\u001b[0m     \u001b[38;5;66;03m# If there is a next page, construct the URL for it\u001b[39;00m\n\u001b[1;32m---> 50\u001b[0m     url \u001b[38;5;241m=\u001b[39m \u001b[38;5;124m'\u001b[39m\u001b[38;5;124mhttps://www.amazon.in\u001b[39m\u001b[38;5;124m'\u001b[39m \u001b[38;5;241m+\u001b[39m \u001b[43mhtml_data\u001b[49m\u001b[38;5;241;43m.\u001b[39;49m\u001b[43mfind\u001b[49m\u001b[43m(\u001b[49m\u001b[38;5;124;43m'\u001b[39;49m\u001b[38;5;124;43mli\u001b[39;49m\u001b[38;5;124;43m'\u001b[39;49m\u001b[43m,\u001b[49m\u001b[43m \u001b[49m\u001b[43m{\u001b[49m\u001b[38;5;124;43m'\u001b[39;49m\u001b[38;5;124;43mclass\u001b[39;49m\u001b[38;5;124;43m'\u001b[39;49m\u001b[43m:\u001b[49m\u001b[43m \u001b[49m\u001b[38;5;124;43m'\u001b[39;49m\u001b[38;5;124;43ma-last\u001b[39;49m\u001b[38;5;124;43m'\u001b[39;49m\u001b[43m}\u001b[49m\u001b[43m)\u001b[49m\u001b[38;5;241;43m.\u001b[39;49m\u001b[43ma\u001b[49m\u001b[43m[\u001b[49m\u001b[38;5;124;43m'\u001b[39;49m\u001b[38;5;124;43mhref\u001b[39;49m\u001b[38;5;124;43m'\u001b[39;49m\u001b[43m]\u001b[49m\n\u001b[0;32m     52\u001b[0m \u001b[38;5;66;03m# Print the URL of the next page (for debugging purposes)\u001b[39;00m\n\u001b[0;32m     53\u001b[0m \u001b[38;5;28mprint\u001b[39m(url)\n",
      "\u001b[1;31mTypeError\u001b[0m: 'NoneType' object is not subscriptable"
     ]
    }
   ],
   "source": [
    "url= \"https://www.amazon.in/POCO-Snowstorm-White-RAM-Storage/product-reviews/B0CSSD9QJR/ref=cm_cr_arp_d_paging_btm_next_2?ie=UTF8&reviewerType=all_reviews&pageNumber=1\"\n",
    "\n",
    "# Loop through pages to scrape reviews\n",
    "while url != None:\n",
    "    i = i + 1\n",
    "    # Construct the URL for the next page\n",
    "    url = \"https://www.amazon.in/POCO-Snowstorm-White-RAM-Storage/product-reviews/B0CSSD9QJR/ref=cm_cr_arp_d_paging_btm_next_2?ie=UTF8&reviewerType=all_reviews&pageNumber=\" + str(i)\n",
    "    \n",
    "    # Load the page in the browser\n",
    "    driver.get(url)\n",
    "    \n",
    "    # Pause for 5 seconds to allow the page to load\n",
    "    time.sleep(5)\n",
    "    \n",
    "    # Parse the HTML content of the current page\n",
    "    html_data = BeautifulSoup(driver.page_source, 'html.parser')\n",
    "    \n",
    "    # Find all the reviews on the current page\n",
    "    reviews = html_data.find_all('div', {'data-hook': 'review'})\n",
    "    \n",
    "    # Loop through each review and extract the required information\n",
    "    for review in reviews:\n",
    "        # Extract the reviewer's name\n",
    "        name = review.find('span', {'class': 'a-profile-name'}).text\n",
    "        names.append(name.strip())\n",
    "        \n",
    "        # Extract the rating given by the reviewer\n",
    "        rating = review.find('span', {'class': 'a-icon-alt'}).text\n",
    "        ratings.append(rating)\n",
    "        \n",
    "        # Extract the date of the rating\n",
    "        rating_date = review.find('span', {'data-hook': 'review-date'}).text\n",
    "        rating_dates.append(rating_date)\n",
    "        \n",
    "        # Extract the title of the review\n",
    "        title = review.find('a', {'data-hook': 'review-title'}).text\n",
    "        titles.append(title)\n",
    "        \n",
    "        # Extract the review text\n",
    "        review_text = review.find('span', {'data-hook': 'review-body'}).text\n",
    "        reviews_text.append(review_text)\n",
    "    \n",
    "    # Check if there is a next page\n",
    "    url_check = html_data.find('li', {'class': 'a-last'})\n",
    "    if url_check == None:\n",
    "        # If no next page, end the loop\n",
    "        url = None\n",
    "    else:\n",
    "        # If there is a next page, construct the URL for it\n",
    "        url = 'https://www.amazon.in' + html_data.find('li', {'class': 'a-last'}).a['href']\n",
    "    \n",
    "    # Print the URL of the next page (for debugging purposes)\n",
    "    print(url)"
   ]
  },
  {
   "cell_type": "code",
   "execution_count": 14,
   "metadata": {},
   "outputs": [],
   "source": [
    "# Create a DataFrame from the extracted data\n",
    "data = pd.DataFrame({'profile_name': names,\n",
    "                     'rating': ratings,\n",
    "                     'rating_date': rating_dates,\n",
    "                     'title': titles,\n",
    "                     'review_text': reviews_text})\n",
    "\n",
    "# Display the distribution of ratings\n",
    "data.rating.value_counts()\n",
    "\n",
    "# Save the DataFrame to a CSV file\n",
    "data.to_csv('../data/Product_Reviews.csv')"
   ]
  }
 ],
 "metadata": {
  "kernelspec": {
   "display_name": "Python 3",
   "language": "python",
   "name": "python3"
  },
  "language_info": {
   "codemirror_mode": {
    "name": "ipython",
    "version": 3
   },
   "file_extension": ".py",
   "mimetype": "text/x-python",
   "name": "python",
   "nbconvert_exporter": "python",
   "pygments_lexer": "ipython3",
   "version": "3.8.0"
  }
 },
 "nbformat": 4,
 "nbformat_minor": 2
}
