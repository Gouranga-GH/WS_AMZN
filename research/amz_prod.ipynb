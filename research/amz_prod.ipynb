{
 "cells": [
  {
   "cell_type": "markdown",
   "metadata": {},
   "source": [
    "# Web Scraping Products\n",
    "This notebook scrapes details for products from Amazon and stores the data in a CSV file."
   ]
  },
  {
   "cell_type": "code",
   "execution_count": 1,
   "metadata": {},
   "outputs": [],
   "source": [
    "import pandas as pd  # Import pandas for data manipulation and analysis\n",
    "from selenium import webdriver  # Import selenium for web automation and scraping\n",
    "from bs4 import BeautifulSoup  # Import BeautifulSoup for parsing HTML data\n",
    "import time  # Import time to introduce delays between page loads\n",
    "from tqdm import tqdm  # Import tqdm to show a progress bar for loops"
   ]
  },
  {
   "cell_type": "code",
   "execution_count": 2,
   "metadata": {},
   "outputs": [],
   "source": [
    "# Initialize the Chrome WebDriver\n",
    "driver = webdriver.Chrome()\n",
    "\n",
    "# Open the Amazon page for mobile products\n",
    "driver.get('https://www.amazon.in/s?k=mobiles&crid=2944PM084A0K4&sprefix=mobiles%2Caps%2C271&ref=nb_sb_noss_1')\n",
    "\n",
    "# Parse the page source using BeautifulSoup\n",
    "html_data = BeautifulSoup(driver.page_source, 'html.parser')\n",
    "\n",
    "# Find the number of pages available for the search results\n",
    "no_of_pages = int(html_data.find('span', {'class': 's-pagination-item s-pagination-disabled'}).text)\n",
    "\n",
    "# Find all product containers on the first page\n",
    "products = html_data.find_all('div', {'data-component-type': 's-search-result'})\n",
    "\n",
    "# Initialize lists to store product details\n",
    "titles = []\n",
    "images = []\n",
    "ratings = []\n",
    "prices = []"
   ]
  },
  {
   "cell_type": "code",
   "execution_count": 3,
   "metadata": {},
   "outputs": [
    {
     "name": "stderr",
     "output_type": "stream",
     "text": [
      "100%|██████████| 20/20 [01:55<00:00,  5.77s/it]\n"
     ]
    }
   ],
   "source": [
    "# Loop through each page to scrape the data\n",
    "for i in tqdm(range(no_of_pages)):\n",
    "    # Construct the URL for each page\n",
    "    url = 'https://www.amazon.in/s?k=mobiles&crid=2944PM084A0K4&sprefix=mobiles%2Caps%2C271&ref=nb_sb_noss_1&page=' + str(i + 1)\n",
    "    \n",
    "    # Load the page in the browser\n",
    "    driver.get(url)\n",
    "    \n",
    "    # Allow some time for the page to load completely\n",
    "    time.sleep(2)\n",
    "    \n",
    "    # Parse the page source using BeautifulSoup\n",
    "    html_data = BeautifulSoup(driver.page_source, 'html.parser')\n",
    "    \n",
    "    # Find all product containers on the current page\n",
    "    products = html_data.find_all('div', {'data-component-type': 's-search-result'})\n",
    "    \n",
    "    # Extract details for each product\n",
    "    for product in products:\n",
    "        # Extract product title\n",
    "        title = product.find('span', {'class': 'a-size-medium a-color-base a-text-normal'}).text\n",
    "        titles.append(title)\n",
    "        \n",
    "        # Extract product image URL\n",
    "        img = product.find('img')['src']\n",
    "        images.append(img)\n",
    "        \n",
    "        # Extract product rating (if available)\n",
    "        rating = product.find('span', {'class': 'a-icon-alt'})\n",
    "        if rating is None:\n",
    "            rating = 'No Rating'  # Handle cases where rating is not available\n",
    "        else:\n",
    "            rating = rating.text\n",
    "        ratings.append(rating)\n",
    "        \n",
    "        # Extract product price (if available)\n",
    "        price = product.find('span', {'class': 'a-price-whole'})\n",
    "        if price is None:\n",
    "            price = 'No Price'  # Handle cases where price is not available\n",
    "        else:\n",
    "            price = '₹' + price.text\n",
    "        prices.append(price)"
   ]
  },
  {
   "cell_type": "code",
   "execution_count": 4,
   "metadata": {},
   "outputs": [
    {
     "name": "stdout",
     "output_type": "stream",
     "text": [
      "                                                titles  \\\n",
      "0             Pixel 8 5G (Obsidian, 256 GB) (8 GB RAM)   \n",
      "1       Pixel 8a 5G (Obsidian, 8GB RAM, 128GB Storage)   \n",
      "2    iQOO Z9s 5G (Onyx Green, 8GB RAM, 256GB Storag...   \n",
      "3    Redmi 13C (Stardust Black, 4GB RAM, 128GB Stor...   \n",
      "4         POCO C65 (Pastel Blue 4GB RAM 128GB Storage)   \n",
      "..                                                 ...   \n",
      "421        Coolpad Cool 5 (Red, 4GB RAM, 64GB Storage)   \n",
      "422  pTron Dynamo Rush 10000mAh 22.5W PD Charging N...   \n",
      "423  SmartLike Robot Ring Thunder Case, Shockproof ...   \n",
      "424  WeConnect Care 1 Year Premium Extended Warrant...   \n",
      "425       POCO C65 (Pastel Blue 4GB RAM 128GB Storage)   \n",
      "\n",
      "                                                images             ratings  \\\n",
      "0    https://m.media-amazon.com/images/I/61FRNxeKcM...           No Rating   \n",
      "1    https://m.media-amazon.com/images/I/61NsUY3izo...           No Rating   \n",
      "2    https://m.media-amazon.com/images/I/61nO5YRaAx...           No Rating   \n",
      "3    https://m.media-amazon.com/images/I/71d1ytcCnt...  4.1 out of 5 stars   \n",
      "4    https://m.media-amazon.com/images/I/51Zjp5fq1E...  4.0 out of 5 stars   \n",
      "..                                                 ...                 ...   \n",
      "421  https://m.media-amazon.com/images/I/61xwe+BR5I...  3.5 out of 5 stars   \n",
      "422  https://m.media-amazon.com/images/I/51ryi9usnl...  4.6 out of 5 stars   \n",
      "423  https://m.media-amazon.com/images/I/51LkM9qcuo...           No Rating   \n",
      "424  https://m.media-amazon.com/images/I/41h1hpv4Rc...  3.0 out of 5 stars   \n",
      "425  https://m.media-amazon.com/images/I/51Zjp5fq1E...  4.0 out of 5 stars   \n",
      "\n",
      "      prices  \n",
      "0    ₹62,999  \n",
      "1    ₹43,900  \n",
      "2    ₹21,999  \n",
      "3     ₹7,698  \n",
      "4     ₹6,799  \n",
      "..       ...  \n",
      "421   ₹7,498  \n",
      "422   ₹1,499  \n",
      "423     ₹499  \n",
      "424   ₹1,599  \n",
      "425   ₹6,799  \n",
      "\n",
      "[426 rows x 4 columns]\n"
     ]
    }
   ],
   "source": [
    "# Create a DataFrame to store the scraped data\n",
    "data = pd.DataFrame({'titles': titles, 'images': images, 'ratings': ratings, 'prices': prices})\n",
    "\n",
    "# Display the DataFrame (for verification)\n",
    "print(data)"
   ]
  },
  {
   "cell_type": "code",
   "execution_count": 5,
   "metadata": {},
   "outputs": [],
   "source": [
    "# Save the DataFrame to a CSV file\n",
    "data.to_csv('../data/Mobile_Products.csv', index=False)"
   ]
  }
 ],
 "metadata": {
  "kernelspec": {
   "display_name": "Python 3",
   "language": "python",
   "name": "python3"
  },
  "language_info": {
   "codemirror_mode": {
    "name": "ipython",
    "version": 3
   },
   "file_extension": ".py",
   "mimetype": "text/x-python",
   "name": "python",
   "nbconvert_exporter": "python",
   "pygments_lexer": "ipython3",
   "version": "3.8.0"
  }
 },
 "nbformat": 4,
 "nbformat_minor": 2
}
